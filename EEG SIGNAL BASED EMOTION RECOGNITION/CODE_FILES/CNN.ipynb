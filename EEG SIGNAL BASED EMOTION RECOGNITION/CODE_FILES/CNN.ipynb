{
  "cells": [
    {
      "cell_type": "code",
      "execution_count": 1,
      "metadata": {
        "colab": {
          "base_uri": "https://localhost:8080/"
        },
        "id": "DoA0_P5PR_yA",
        "outputId": "75ebad7d-6ba0-440c-f44e-2fd23f1abdf2"
      },
      "outputs": [
        {
          "output_type": "stream",
          "name": "stdout",
          "text": [
            "Collecting git+https://github.com/forrestbao/pyeeg.git\n",
            "  Cloning https://github.com/forrestbao/pyeeg.git to /tmp/pip-req-build-hfcdbzpb\n",
            "  Running command git clone --filter=blob:none --quiet https://github.com/forrestbao/pyeeg.git /tmp/pip-req-build-hfcdbzpb\n",
            "  Resolved https://github.com/forrestbao/pyeeg.git to commit a6c18bb093e4748f9d9c208535a6ae024a0802b8\n",
            "  Preparing metadata (setup.py) ... \u001b[?25l\u001b[?25hdone\n",
            "Requirement already satisfied: numpy>=1.9.2 in /usr/local/lib/python3.10/dist-packages (from pyeeg==0.4.4) (1.25.2)\n",
            "Building wheels for collected packages: pyeeg\n",
            "  Building wheel for pyeeg (setup.py) ... \u001b[?25l\u001b[?25hdone\n",
            "  Created wheel for pyeeg: filename=pyeeg-0.4.4-py2.py3-none-any.whl size=28111 sha256=a61d602f38f251eb587c8d47113062beac8d55f51eaff0e593e1ecef1710717c\n",
            "  Stored in directory: /tmp/pip-ephem-wheel-cache-y4_2_cwl/wheels/a8/c4/1a/cee09dcc12a11620066d35ace42e3c1e3bfbcc1db3a0ce7788\n",
            "Successfully built pyeeg\n",
            "Installing collected packages: pyeeg\n",
            "Successfully installed pyeeg-0.4.4\n"
          ]
        }
      ],
      "source": [
        "\n",
        "!pip install git+https://github.com/forrestbao/pyeeg.git\n",
        "import numpy as np\n",
        "import pyeeg as pe\n",
        "import pickle as pickle\n",
        "import pandas as pd\n",
        "import math\n",
        "\n",
        "from sklearn import svm\n",
        "from sklearn.preprocessing import normalize\n",
        "\n",
        "import os\n",
        "import time"
      ]
    },
    {
      "cell_type": "code",
      "execution_count": 2,
      "metadata": {
        "colab": {
          "base_uri": "https://localhost:8080/"
        },
        "id": "wsWe0X7aMdz8",
        "outputId": "a6ec3fbf-dc6b-48fc-f6f7-9d0083e1342f"
      },
      "outputs": [
        {
          "output_type": "stream",
          "name": "stdout",
          "text": [
            "Drive already mounted at /content/drive; to attempt to forcibly remount, call drive.mount(\"/content/drive\", force_remount=True).\n"
          ]
        }
      ],
      "source": [
        "from google.colab import drive\n",
        "drive.mount('/content/drive')"
      ]
    },
    {
      "cell_type": "code",
      "execution_count": 3,
      "metadata": {
        "id": "SrN5g7eWUSAa"
      },
      "outputs": [],
      "source": [
        "import pandas as pd\n",
        "import keras.backend as K\n",
        "import numpy as np\n",
        "import pandas as pd\n",
        "from keras.models import Sequential\n",
        "from keras.layers import Dense\n",
        "from keras.models import Sequential\n",
        "#from keras.layers.convolutional import Conv1D\n",
        "from tensorflow.keras.layers import Conv1D, MaxPooling1D\n",
        "#from keras.layers.convolutional import MaxPooling1D\n",
        "from tensorflow.keras.utils import to_categorical\n",
        "from keras.layers import Flatten\n",
        "from keras.layers import Dense\n",
        "import numpy as np\n",
        "import keras\n",
        "from keras.datasets import mnist\n",
        "from keras.models import Sequential\n",
        "from keras.layers import Dense, Dropout, Flatten, Conv2D, MaxPooling2D\n",
        "from keras import backend as K\n",
        "from keras.models import Model\n",
        "import timeit\n",
        "from keras.models import Sequential\n",
        "#from keras.layers.core import Flatten, Dense, Dropout\n",
        "from keras.layers import Flatten, Dense, Dropout\n",
        "\n",
        "#from keras.layers.convolutional import Convolution1D, MaxPooling1D, ZeroPadding1D\n",
        "from tensorflow.keras.layers import Conv1D, MaxPooling1D\n",
        "\n",
        "\n",
        "from tensorflow.keras.optimizers import SGD\n",
        "#import cv2, numpy as np\n",
        "import warnings\n",
        "warnings.filterwarnings('ignore')"
      ]
    },
    {
      "cell_type": "code",
      "execution_count": 4,
      "metadata": {
        "id": "I17Q8s_FUZE4"
      },
      "outputs": [],
      "source": [
        "channel = [1,2,3,4,6,11,13,17,19,20,21,25,29,31] #14 Channels chosen to fit Emotiv Epoch+\n",
        "band = [4,8,12,16,25,45] #5 bands\n",
        "window_size = 256 #Averaging band power of 2 sec\n",
        "step_size = 16 #Each 0.125 sec update once\n",
        "sample_rate = 128 #Sampling rate of 128 Hz\n",
        "subjectList = ['01','02','03']\n",
        "#List of subjects"
      ]
    },
    {
      "cell_type": "code",
      "execution_count": 5,
      "metadata": {
        "id": "7jkRihfmUh5_"
      },
      "outputs": [],
      "source": [
        "def FFT_Processing(sub, channel, band, window_size, step_size, sample_rate):\n",
        "    meta = []\n",
        "    with open(\"/content/drive/MyDrive/DL_SIP_PROJECT/data_preprocessed_python/s\" + sub + '.dat', 'rb') as file:\n",
        "        subject = pickle.load(file, encoding='latin1')\n",
        "\n",
        "        for i in range(40):\n",
        "            data = subject[\"data\"][i]\n",
        "            labels = subject[\"labels\"][i]\n",
        "            start = 0\n",
        "            while start + window_size < data.shape[1]:\n",
        "                meta_array = []\n",
        "                max_length = 0  # Track the maximum length of meta_data\n",
        "                for j in channel:\n",
        "                    X = data[j][start: start + window_size]\n",
        "                    Y = pe.bin_power(X, band, sample_rate)\n",
        "                    meta_data = list(Y[0])\n",
        "                    # Update max_length if necessary\n",
        "                    max_length = max(max_length, len(meta_data))\n",
        "                    meta_array.append(meta_data)\n",
        "                # Pad or truncate all meta_data lists to have the same length\n",
        "                for k in range(len(meta_array)):\n",
        "                    meta_array[k] = meta_array[k] + [0] * (max_length - len(meta_array[k]))\n",
        "                # Flatten the meta_array and append the labels\n",
        "                flattened_meta_array = [item for sublist in meta_array for item in sublist]\n",
        "                flattened_meta_array.extend(labels)\n",
        "                meta.append(flattened_meta_array)\n",
        "                start += step_size\n",
        "\n",
        "    meta = np.array(meta)\n",
        "    np.save('/content/drive/MyDrive/DL_SIP_PROJECT/data_preprocessed_python/s' + sub, meta, allow_pickle=True, fix_imports=True)\n",
        "\n"
      ]
    },
    {
      "cell_type": "code",
      "execution_count": 6,
      "metadata": {
        "id": "iHic_G6oM3_W"
      },
      "outputs": [],
      "source": [
        "for subjects in subjectList:\n",
        "    FFT_Processing (subjects, channel, band, window_size, step_size, sample_rate)"
      ]
    },
    {
      "cell_type": "code",
      "execution_count": 7,
      "metadata": {
        "colab": {
          "base_uri": "https://localhost:8080/"
        },
        "id": "8lWC6vkpUqJm",
        "outputId": "e72b9d68-ac8d-4c15-cf22-14f3c0c01d91"
      },
      "outputs": [
        {
          "output_type": "stream",
          "name": "stdout",
          "text": [
            "training dataset: (43920, 70) (43920, 4)\n",
            "testing dataset: (14640, 70) (14640, 4)\n"
          ]
        }
      ],
      "source": [
        "data_training = []\n",
        "label_training = []\n",
        "data_testing = []\n",
        "label_testing = []\n",
        "\n",
        "for subjects in subjectList:\n",
        "    with open('/content/drive/MyDrive/DL_SIP_PROJECT/data_preprocessed_python/s' + subjects + '.npy', 'rb') as file:\n",
        "        sub = np.load(file, allow_pickle=True)\n",
        "        for i in range(sub.shape[0]):\n",
        "            if i % 4 == 0:\n",
        "                data_testing.append(sub[i][:-4])  # Append features excluding the last 4 elements (labels)\n",
        "                label_testing.append(sub[i][-4:]) # Append the last 4 elements (labels)\n",
        "            else:\n",
        "                data_training.append(sub[i][:-4]) # Append features excluding the last 4 elements (labels)\n",
        "                label_training.append(sub[i][-4:])# Append the last 4 elements (labels)\n",
        "\n",
        "data_training = np.array(data_training)\n",
        "label_training = np.array(label_training)\n",
        "data_testing = np.array(data_testing)\n",
        "label_testing = np.array(label_testing)\n",
        "\n",
        "np.save('/content/drive/MyDrive/DL_SIP_PROJECT/70_30_2/data_training', data_training, allow_pickle=True, fix_imports=True)\n",
        "np.save('/content/drive/MyDrive/DL_SIP_PROJECT/70_30_2/label_training', label_training, allow_pickle=True, fix_imports=True)\n",
        "print(\"training dataset:\", data_training.shape, label_training.shape)\n",
        "\n",
        "np.save('/content/drive/MyDrive/DL_SIP_PROJECT/70_30_2/data_testing', data_testing, allow_pickle=True, fix_imports=True)\n",
        "np.save('/content/drive/MyDrive/DL_SIP_PROJECT/70_30_2/label_testing', label_testing, allow_pickle=True, fix_imports=True)\n",
        "print(\"testing dataset:\", data_testing.shape, label_testing.shape)"
      ]
    },
    {
      "cell_type": "code",
      "execution_count": 8,
      "metadata": {
        "id": "sDFZDaG_UyPF"
      },
      "outputs": [],
      "source": [
        "with open('/content/drive/MyDrive/DL_SIP_PROJECT/70_30/data_training.npy', 'rb') as fileTrain:\n",
        "    X  = np.load(fileTrain)\n",
        "\n",
        "with open('/content/drive/MyDrive/DL_SIP_PROJECT/70_30/label_training.npy', 'rb') as fileTrainL:\n",
        "    Y  = np.load(fileTrainL)\n",
        "\n",
        "X = normalize(X)\n",
        "Z = np.ravel(Y[:, [3]])\n",
        "\n",
        "Arousal_Train = np.ravel(Y[:, [0]])\n",
        "Valence_Train = np.ravel(Y[:, [1]])\n",
        "Domain_Train = np.ravel(Y[:, [2]])\n",
        "Like_Train = np.ravel(Y[:, [3]])"
      ]
    },
    {
      "cell_type": "code",
      "execution_count": 9,
      "metadata": {
        "colab": {
          "base_uri": "https://localhost:8080/"
        },
        "id": "CvPnvDyXU6U1",
        "outputId": "f4c92317-390a-4180-8d8b-84fd060d2610"
      },
      "outputs": [
        {
          "output_type": "execute_result",
          "data": {
            "text/plain": [
              "(43920, 70)"
            ]
          },
          "metadata": {},
          "execution_count": 9
        }
      ],
      "source": [
        "X.shape"
      ]
    },
    {
      "cell_type": "code",
      "execution_count": 10,
      "metadata": {
        "colab": {
          "base_uri": "https://localhost:8080/"
        },
        "id": "hJB8ICj3U7A7",
        "outputId": "6f96c7ec-4c08-492d-c410-65a0aeb99d4e"
      },
      "outputs": [
        {
          "output_type": "execute_result",
          "data": {
            "text/plain": [
              "array([[0., 0., 0., ..., 1., 0., 0.],\n",
              "       [0., 0., 0., ..., 1., 0., 0.],\n",
              "       [0., 0., 0., ..., 1., 0., 0.],\n",
              "       ...,\n",
              "       [0., 0., 0., ..., 0., 0., 0.],\n",
              "       [0., 0., 0., ..., 0., 0., 0.],\n",
              "       [0., 0., 0., ..., 0., 0., 0.]], dtype=float32)"
            ]
          },
          "metadata": {},
          "execution_count": 10
        }
      ],
      "source": [
        "from tensorflow.keras.utils import to_categorical\n",
        "y_train = to_categorical(Z)\n",
        "y_train\n"
      ]
    },
    {
      "cell_type": "code",
      "execution_count": 11,
      "metadata": {
        "colab": {
          "base_uri": "https://localhost:8080/"
        },
        "id": "KnpFKS91VH5x",
        "outputId": "32c0a75d-6a61-4cf5-e5f9-058a4949d787"
      },
      "outputs": [
        {
          "output_type": "execute_result",
          "data": {
            "text/plain": [
              "(43920, 10)"
            ]
          },
          "metadata": {},
          "execution_count": 11
        }
      ],
      "source": [
        "\n",
        "y_train.shape"
      ]
    },
    {
      "cell_type": "code",
      "execution_count": 12,
      "metadata": {
        "id": "9Vk74UVrVKSN"
      },
      "outputs": [],
      "source": [
        "\n",
        "x_train = np.array(X[:])"
      ]
    },
    {
      "cell_type": "code",
      "execution_count": 13,
      "metadata": {
        "id": "20AokpweVMzL"
      },
      "outputs": [],
      "source": [
        "with open('/content/drive/MyDrive/DL_SIP_PROJECT/70_30_2/data_testing.npy', 'rb') as fileTrain:\n",
        "    M  = np.load(fileTrain)\n",
        "\n",
        "with open('/content/drive/MyDrive/DL_SIP_PROJECT/70_30_2/label_testing.npy', 'rb') as fileTrainL:\n",
        "    N  = np.load(fileTrainL)\n",
        "\n",
        "M = normalize(M)\n",
        "L = np.ravel(N[:, [3]])\n",
        "\n",
        "Arousal_Test = np.ravel(N[:, [0]])\n",
        "Valence_Test = np.ravel(N[:, [1]])\n",
        "Domain_Test = np.ravel(N[:, [2]])\n",
        "Like_Test = np.ravel(N[:, [3]])"
      ]
    },
    {
      "cell_type": "code",
      "execution_count": 14,
      "metadata": {
        "id": "Qhs7C-ZOVVrx"
      },
      "outputs": [],
      "source": [
        "\n",
        "x_test = np.array(M[:])"
      ]
    },
    {
      "cell_type": "code",
      "execution_count": 15,
      "metadata": {
        "colab": {
          "base_uri": "https://localhost:8080/"
        },
        "id": "EOHLqo6cVYi0",
        "outputId": "f8891c1f-80a2-4d3e-e988-0089a4e5c28e"
      },
      "outputs": [
        {
          "output_type": "execute_result",
          "data": {
            "text/plain": [
              "array([[0., 0., 0., ..., 1., 0., 0.],\n",
              "       [0., 0., 0., ..., 1., 0., 0.],\n",
              "       [0., 0., 0., ..., 1., 0., 0.],\n",
              "       ...,\n",
              "       [0., 0., 0., ..., 0., 0., 0.],\n",
              "       [0., 0., 0., ..., 0., 0., 0.],\n",
              "       [0., 0., 0., ..., 0., 0., 0.]], dtype=float32)"
            ]
          },
          "metadata": {},
          "execution_count": 15
        }
      ],
      "source": [
        "from tensorflow.keras.utils import to_categorical\n",
        "y_test = to_categorical(L)\n",
        "y_test"
      ]
    },
    {
      "cell_type": "code",
      "execution_count": 16,
      "metadata": {
        "colab": {
          "base_uri": "https://localhost:8080/"
        },
        "id": "ziXnzya9VbEk",
        "outputId": "adfd582a-05f5-48b2-b675-c05f5ab5755a"
      },
      "outputs": [
        {
          "output_type": "execute_result",
          "data": {
            "text/plain": [
              "array([0., 0., 0., 0., 0., 0., 0., 1., 0., 0.], dtype=float32)"
            ]
          },
          "metadata": {},
          "execution_count": 16
        }
      ],
      "source": [
        "\n",
        "y_test[1]"
      ]
    },
    {
      "cell_type": "code",
      "execution_count": 17,
      "metadata": {
        "id": "bsYxod7CVdgj"
      },
      "outputs": [],
      "source": [
        "\n",
        "from sklearn.preprocessing import StandardScaler\n",
        "scaler = StandardScaler()\n",
        "x_train = scaler.fit_transform(x_train)\n",
        "x_test = scaler.fit_transform(x_test)\n"
      ]
    },
    {
      "cell_type": "code",
      "execution_count": 18,
      "metadata": {
        "id": "ORwhQB_IVf0P"
      },
      "outputs": [],
      "source": [
        "x_train = x_train.reshape(x_train.shape[0],x_train.shape[1], 1)\n",
        "x_test = x_test.reshape(x_test.shape[0],x_test.shape[1], 1)"
      ]
    },
    {
      "cell_type": "code",
      "execution_count": 19,
      "metadata": {
        "colab": {
          "base_uri": "https://localhost:8080/"
        },
        "id": "LXzaXnWxViRi",
        "outputId": "89e104d5-1e7a-49be-affe-56a9e2bf786d"
      },
      "outputs": [
        {
          "output_type": "execute_result",
          "data": {
            "text/plain": [
              "(43920, 70, 1)"
            ]
          },
          "metadata": {},
          "execution_count": 19
        }
      ],
      "source": [
        "\n",
        "x_train.shape"
      ]
    },
    {
      "cell_type": "code",
      "execution_count": 20,
      "metadata": {
        "id": "TPYJnrJfVk7A"
      },
      "outputs": [],
      "source": [
        "\n",
        "batch_size = 64\n",
        "num_classes = 10\n",
        "epochs = 200\n",
        "input_shape=(x_train.shape[1], 1)"
      ]
    },
    {
      "cell_type": "code",
      "execution_count": 21,
      "metadata": {
        "colab": {
          "base_uri": "https://localhost:8080/"
        },
        "id": "X0xrfqMLVnhT",
        "outputId": "252096d5-15d5-4fc9-f1b2-b50c9b6bc3c3"
      },
      "outputs": [
        {
          "output_type": "stream",
          "name": "stdout",
          "text": [
            "(70, 1)\n"
          ]
        }
      ],
      "source": [
        "\n",
        "print(input_shape)"
      ]
    },
    {
      "cell_type": "code",
      "execution_count": 22,
      "metadata": {
        "id": "9xkN251UVqd8"
      },
      "outputs": [],
      "source": [
        "\n",
        "from keras.layers import Convolution1D, ZeroPadding1D, MaxPooling1D, BatchNormalization, Activation, Dropout, Flatten, Dense\n",
        "from keras.regularizers import l2"
      ]
    },
    {
      "cell_type": "code",
      "execution_count": 23,
      "metadata": {
        "colab": {
          "base_uri": "https://localhost:8080/"
        },
        "id": "xEvZtfCFVu3t",
        "outputId": "1c4171ae-d57a-4470-aa39-fff1ca433606"
      },
      "outputs": [
        {
          "output_type": "stream",
          "name": "stdout",
          "text": [
            "Model: \"sequential\"\n",
            "_________________________________________________________________\n",
            " Layer (type)                Output Shape              Param #   \n",
            "=================================================================\n",
            " conv1d (Conv1D)             (None, 70, 164)           656       \n",
            "                                                                 \n",
            " batch_normalization (Batch  (None, 70, 164)           656       \n",
            " Normalization)                                                  \n",
            "                                                                 \n",
            " max_pooling1d (MaxPooling1  (None, 35, 164)           0         \n",
            " D)                                                              \n",
            "                                                                 \n",
            " conv1d_1 (Conv1D)           (None, 35, 164)           80852     \n",
            "                                                                 \n",
            " batch_normalization_1 (Bat  (None, 35, 164)           656       \n",
            " chNormalization)                                                \n",
            "                                                                 \n",
            " max_pooling1d_1 (MaxPoolin  (None, 17, 164)           0         \n",
            " g1D)                                                            \n",
            "                                                                 \n",
            " conv1d_2 (Conv1D)           (None, 17, 82)            40426     \n",
            "                                                                 \n",
            " max_pooling1d_2 (MaxPoolin  (None, 8, 82)             0         \n",
            " g1D)                                                            \n",
            "                                                                 \n",
            " flatten (Flatten)           (None, 656)               0         \n",
            "                                                                 \n",
            " dense (Dense)               (None, 82)                53874     \n",
            "                                                                 \n",
            " dropout (Dropout)           (None, 82)                0         \n",
            "                                                                 \n",
            " dense_1 (Dense)             (None, 42)                3486      \n",
            "                                                                 \n",
            " dropout_1 (Dropout)         (None, 42)                0         \n",
            "                                                                 \n",
            " dense_2 (Dense)             (None, 21)                903       \n",
            "                                                                 \n",
            " dropout_2 (Dropout)         (None, 21)                0         \n",
            "                                                                 \n",
            " dense_3 (Dense)             (None, 10)                220       \n",
            "                                                                 \n",
            "=================================================================\n",
            "Total params: 181729 (709.88 KB)\n",
            "Trainable params: 181073 (707.32 KB)\n",
            "Non-trainable params: 656 (2.56 KB)\n",
            "_________________________________________________________________\n"
          ]
        }
      ],
      "source": [
        "model = Sequential()\n",
        "intput_shape=(x_train.shape[1], 1)\n",
        "model.add(Conv1D(164, kernel_size=3,padding = 'same',activation='relu', input_shape=input_shape))\n",
        "model.add(BatchNormalization())\n",
        "model.add(MaxPooling1D(pool_size=(2)))\n",
        "model.add(Conv1D(164,kernel_size=3,padding = 'same', activation='relu'))\n",
        "model.add(BatchNormalization())\n",
        "model.add(MaxPooling1D(pool_size=(2)))\n",
        "model.add(Conv1D(82,kernel_size=3,padding = 'same', activation='relu'))\n",
        "model.add(MaxPooling1D(pool_size=(2)))\n",
        "model.add(Flatten())\n",
        "model.add(Dense(82, activation='tanh'))\n",
        "model.add(Dropout(0.2))\n",
        "model.add(Dense(42, activation='tanh'))\n",
        "model.add(Dropout(0.2))\n",
        "model.add(Dense(21, activation='relu'))\n",
        "model.add(Dropout(0.2))\n",
        "model.add(Dense(num_classes, activation='softmax'))\n",
        "model.summary()\n"
      ]
    },
    {
      "cell_type": "code",
      "execution_count": 24,
      "metadata": {
        "id": "soIMuo5MVyBH"
      },
      "outputs": [],
      "source": [
        "model.compile(loss=keras.losses.categorical_crossentropy,\n",
        "              optimizer='adam',\n",
        "              metrics=['accuracy'])"
      ]
    },
    {
      "cell_type": "code",
      "execution_count": 25,
      "metadata": {
        "colab": {
          "base_uri": "https://localhost:8080/"
        },
        "id": "BkSSBOSFV51D",
        "outputId": "7fcc5131-4397-4cc9-f7d4-442fbd7ed9b5"
      },
      "outputs": [
        {
          "output_type": "stream",
          "name": "stdout",
          "text": [
            "Epoch 1/200\n",
            "687/687 [==============================] - 16s 9ms/step - loss: 1.6298 - accuracy: 0.3192 - val_loss: 1.4351 - val_accuracy: 0.4098\n",
            "Epoch 2/200\n",
            "687/687 [==============================] - 7s 10ms/step - loss: 1.4578 - accuracy: 0.3964 - val_loss: 1.3122 - val_accuracy: 0.4599\n",
            "Epoch 3/200\n",
            "687/687 [==============================] - 5s 8ms/step - loss: 1.3447 - accuracy: 0.4528 - val_loss: 1.2061 - val_accuracy: 0.5040\n",
            "Epoch 4/200\n",
            "687/687 [==============================] - 6s 9ms/step - loss: 1.2337 - accuracy: 0.5009 - val_loss: 1.0919 - val_accuracy: 0.5559\n",
            "Epoch 5/200\n",
            "687/687 [==============================] - 6s 9ms/step - loss: 1.1425 - accuracy: 0.5380 - val_loss: 1.0329 - val_accuracy: 0.5783\n",
            "Epoch 6/200\n",
            "687/687 [==============================] - 6s 9ms/step - loss: 1.0753 - accuracy: 0.5666 - val_loss: 0.9698 - val_accuracy: 0.6042\n",
            "Epoch 7/200\n",
            "687/687 [==============================] - 7s 10ms/step - loss: 1.0154 - accuracy: 0.5922 - val_loss: 0.8889 - val_accuracy: 0.6333\n",
            "Epoch 8/200\n",
            "687/687 [==============================] - 6s 8ms/step - loss: 0.9647 - accuracy: 0.6109 - val_loss: 0.8720 - val_accuracy: 0.6426\n",
            "Epoch 9/200\n",
            "687/687 [==============================] - 7s 10ms/step - loss: 0.9277 - accuracy: 0.6244 - val_loss: 0.8393 - val_accuracy: 0.6535\n",
            "Epoch 10/200\n",
            "687/687 [==============================] - 6s 8ms/step - loss: 0.8927 - accuracy: 0.6398 - val_loss: 0.8143 - val_accuracy: 0.6639\n",
            "Epoch 11/200\n",
            "687/687 [==============================] - 7s 10ms/step - loss: 0.8730 - accuracy: 0.6501 - val_loss: 0.7888 - val_accuracy: 0.6827\n",
            "Epoch 12/200\n",
            "687/687 [==============================] - 6s 8ms/step - loss: 0.8424 - accuracy: 0.6617 - val_loss: 0.7700 - val_accuracy: 0.6872\n",
            "Epoch 13/200\n",
            "687/687 [==============================] - 6s 9ms/step - loss: 0.8189 - accuracy: 0.6711 - val_loss: 0.7703 - val_accuracy: 0.6833\n",
            "Epoch 14/200\n",
            "687/687 [==============================] - 6s 9ms/step - loss: 0.7998 - accuracy: 0.6803 - val_loss: 0.7412 - val_accuracy: 0.7037\n",
            "Epoch 15/200\n",
            "687/687 [==============================] - 6s 8ms/step - loss: 0.7763 - accuracy: 0.6906 - val_loss: 0.7316 - val_accuracy: 0.7055\n",
            "Epoch 16/200\n",
            "687/687 [==============================] - 7s 10ms/step - loss: 0.7566 - accuracy: 0.6960 - val_loss: 0.7118 - val_accuracy: 0.7141\n",
            "Epoch 17/200\n",
            "687/687 [==============================] - 6s 8ms/step - loss: 0.7434 - accuracy: 0.7032 - val_loss: 0.7040 - val_accuracy: 0.7152\n",
            "Epoch 18/200\n",
            "687/687 [==============================] - 7s 10ms/step - loss: 0.7279 - accuracy: 0.7069 - val_loss: 0.6793 - val_accuracy: 0.7257\n",
            "Epoch 19/200\n",
            "687/687 [==============================] - 6s 8ms/step - loss: 0.7179 - accuracy: 0.7139 - val_loss: 0.6818 - val_accuracy: 0.7245\n",
            "Epoch 20/200\n",
            "687/687 [==============================] - 7s 10ms/step - loss: 0.7022 - accuracy: 0.7217 - val_loss: 0.6904 - val_accuracy: 0.7253\n",
            "Epoch 21/200\n",
            "687/687 [==============================] - 6s 9ms/step - loss: 0.6870 - accuracy: 0.7251 - val_loss: 0.6676 - val_accuracy: 0.7327\n",
            "Epoch 22/200\n",
            "687/687 [==============================] - 6s 9ms/step - loss: 0.6764 - accuracy: 0.7308 - val_loss: 0.6495 - val_accuracy: 0.7385\n",
            "Epoch 23/200\n",
            "687/687 [==============================] - 7s 10ms/step - loss: 0.6690 - accuracy: 0.7349 - val_loss: 0.6408 - val_accuracy: 0.7413\n",
            "Epoch 24/200\n",
            "687/687 [==============================] - 6s 8ms/step - loss: 0.6580 - accuracy: 0.7392 - val_loss: 0.6444 - val_accuracy: 0.7454\n",
            "Epoch 25/200\n",
            "687/687 [==============================] - 7s 10ms/step - loss: 0.6491 - accuracy: 0.7420 - val_loss: 0.6276 - val_accuracy: 0.7516\n",
            "Epoch 26/200\n",
            "687/687 [==============================] - 6s 8ms/step - loss: 0.6277 - accuracy: 0.7502 - val_loss: 0.6200 - val_accuracy: 0.7546\n",
            "Epoch 27/200\n",
            "687/687 [==============================] - 7s 10ms/step - loss: 0.6351 - accuracy: 0.7477 - val_loss: 0.6431 - val_accuracy: 0.7412\n",
            "Epoch 28/200\n",
            "687/687 [==============================] - 6s 8ms/step - loss: 0.6214 - accuracy: 0.7508 - val_loss: 0.5970 - val_accuracy: 0.7633\n",
            "Epoch 29/200\n",
            "687/687 [==============================] - 7s 10ms/step - loss: 0.6128 - accuracy: 0.7558 - val_loss: 0.6060 - val_accuracy: 0.7598\n",
            "Epoch 30/200\n",
            "687/687 [==============================] - 6s 9ms/step - loss: 0.6034 - accuracy: 0.7589 - val_loss: 0.6017 - val_accuracy: 0.7667\n",
            "Epoch 31/200\n",
            "687/687 [==============================] - 6s 9ms/step - loss: 0.5963 - accuracy: 0.7635 - val_loss: 0.6249 - val_accuracy: 0.7613\n",
            "Epoch 32/200\n",
            "687/687 [==============================] - 6s 9ms/step - loss: 0.5945 - accuracy: 0.7660 - val_loss: 0.5838 - val_accuracy: 0.7719\n",
            "Epoch 33/200\n",
            "687/687 [==============================] - 6s 8ms/step - loss: 0.5857 - accuracy: 0.7695 - val_loss: 0.5802 - val_accuracy: 0.7723\n",
            "Epoch 34/200\n",
            "687/687 [==============================] - 7s 10ms/step - loss: 0.5751 - accuracy: 0.7711 - val_loss: 0.5953 - val_accuracy: 0.7704\n",
            "Epoch 35/200\n",
            "687/687 [==============================] - 6s 8ms/step - loss: 0.5746 - accuracy: 0.7720 - val_loss: 0.5908 - val_accuracy: 0.7686\n",
            "Epoch 36/200\n",
            "687/687 [==============================] - 7s 10ms/step - loss: 0.5712 - accuracy: 0.7733 - val_loss: 0.5784 - val_accuracy: 0.7730\n",
            "Epoch 37/200\n",
            "687/687 [==============================] - 6s 8ms/step - loss: 0.5665 - accuracy: 0.7755 - val_loss: 0.5867 - val_accuracy: 0.7732\n",
            "Epoch 38/200\n",
            "687/687 [==============================] - 7s 10ms/step - loss: 0.5657 - accuracy: 0.7763 - val_loss: 0.5695 - val_accuracy: 0.7777\n",
            "Epoch 39/200\n",
            "687/687 [==============================] - 6s 8ms/step - loss: 0.5562 - accuracy: 0.7809 - val_loss: 0.5756 - val_accuracy: 0.7784\n",
            "Epoch 40/200\n",
            "687/687 [==============================] - 6s 9ms/step - loss: 0.5463 - accuracy: 0.7855 - val_loss: 0.5655 - val_accuracy: 0.7811\n",
            "Epoch 41/200\n",
            "687/687 [==============================] - 6s 9ms/step - loss: 0.5424 - accuracy: 0.7855 - val_loss: 0.5770 - val_accuracy: 0.7781\n",
            "Epoch 42/200\n",
            "687/687 [==============================] - 6s 8ms/step - loss: 0.5411 - accuracy: 0.7845 - val_loss: 0.5480 - val_accuracy: 0.7886\n",
            "Epoch 43/200\n",
            "687/687 [==============================] - 7s 10ms/step - loss: 0.5353 - accuracy: 0.7894 - val_loss: 0.5901 - val_accuracy: 0.7735\n",
            "Epoch 44/200\n",
            "687/687 [==============================] - 6s 8ms/step - loss: 0.5370 - accuracy: 0.7891 - val_loss: 0.5628 - val_accuracy: 0.7856\n",
            "Epoch 45/200\n",
            "687/687 [==============================] - 7s 10ms/step - loss: 0.5383 - accuracy: 0.7900 - val_loss: 0.5580 - val_accuracy: 0.7865\n",
            "Epoch 46/200\n",
            "687/687 [==============================] - 6s 8ms/step - loss: 0.5243 - accuracy: 0.7948 - val_loss: 0.5777 - val_accuracy: 0.7816\n",
            "Epoch 47/200\n",
            "687/687 [==============================] - 7s 11ms/step - loss: 0.5207 - accuracy: 0.7958 - val_loss: 0.5625 - val_accuracy: 0.7835\n",
            "Epoch 48/200\n",
            "687/687 [==============================] - 6s 9ms/step - loss: 0.5157 - accuracy: 0.7964 - val_loss: 0.5364 - val_accuracy: 0.7971\n",
            "Epoch 49/200\n",
            "687/687 [==============================] - 7s 10ms/step - loss: 0.5036 - accuracy: 0.8032 - val_loss: 0.5523 - val_accuracy: 0.7948\n",
            "Epoch 50/200\n",
            "687/687 [==============================] - 6s 9ms/step - loss: 0.5100 - accuracy: 0.8013 - val_loss: 0.5386 - val_accuracy: 0.7958\n",
            "Epoch 51/200\n",
            "687/687 [==============================] - 7s 9ms/step - loss: 0.5039 - accuracy: 0.8011 - val_loss: 0.5273 - val_accuracy: 0.7976\n",
            "Epoch 52/200\n",
            "687/687 [==============================] - 6s 9ms/step - loss: 0.4955 - accuracy: 0.8046 - val_loss: 0.5389 - val_accuracy: 0.7947\n",
            "Epoch 53/200\n",
            "687/687 [==============================] - 6s 8ms/step - loss: 0.5023 - accuracy: 0.8036 - val_loss: 0.5315 - val_accuracy: 0.7946\n",
            "Epoch 54/200\n",
            "687/687 [==============================] - 7s 10ms/step - loss: 0.4986 - accuracy: 0.8066 - val_loss: 0.5415 - val_accuracy: 0.7979\n",
            "Epoch 55/200\n",
            "687/687 [==============================] - 6s 8ms/step - loss: 0.4934 - accuracy: 0.8073 - val_loss: 0.5377 - val_accuracy: 0.7930\n",
            "Epoch 56/200\n",
            "687/687 [==============================] - 8s 11ms/step - loss: 0.4918 - accuracy: 0.8074 - val_loss: 0.5384 - val_accuracy: 0.7962\n",
            "Epoch 57/200\n",
            "687/687 [==============================] - 6s 9ms/step - loss: 0.4842 - accuracy: 0.8096 - val_loss: 0.5497 - val_accuracy: 0.7986\n",
            "Epoch 58/200\n",
            "687/687 [==============================] - 7s 11ms/step - loss: 0.4848 - accuracy: 0.8093 - val_loss: 0.5162 - val_accuracy: 0.8084\n",
            "Epoch 59/200\n",
            "687/687 [==============================] - 6s 8ms/step - loss: 0.4813 - accuracy: 0.8126 - val_loss: 0.5221 - val_accuracy: 0.8046\n",
            "Epoch 60/200\n",
            "687/687 [==============================] - 7s 10ms/step - loss: 0.4721 - accuracy: 0.8136 - val_loss: 0.5372 - val_accuracy: 0.7989\n",
            "Epoch 61/200\n",
            "687/687 [==============================] - 6s 9ms/step - loss: 0.4804 - accuracy: 0.8113 - val_loss: 0.5447 - val_accuracy: 0.7988\n",
            "Epoch 62/200\n",
            "687/687 [==============================] - 7s 10ms/step - loss: 0.4723 - accuracy: 0.8174 - val_loss: 0.5222 - val_accuracy: 0.8076\n",
            "Epoch 63/200\n",
            "687/687 [==============================] - 6s 9ms/step - loss: 0.4698 - accuracy: 0.8162 - val_loss: 0.5233 - val_accuracy: 0.8101\n",
            "Epoch 64/200\n",
            "687/687 [==============================] - 6s 9ms/step - loss: 0.4657 - accuracy: 0.8168 - val_loss: 0.5387 - val_accuracy: 0.7996\n",
            "Epoch 65/200\n",
            "687/687 [==============================] - 7s 10ms/step - loss: 0.4660 - accuracy: 0.8154 - val_loss: 0.5180 - val_accuracy: 0.8092\n",
            "Epoch 66/200\n",
            "687/687 [==============================] - 6s 8ms/step - loss: 0.4690 - accuracy: 0.8181 - val_loss: 0.5189 - val_accuracy: 0.8104\n",
            "Epoch 67/200\n",
            "687/687 [==============================] - 7s 10ms/step - loss: 0.4574 - accuracy: 0.8218 - val_loss: 0.5149 - val_accuracy: 0.8049\n",
            "Epoch 68/200\n",
            "687/687 [==============================] - 6s 8ms/step - loss: 0.4500 - accuracy: 0.8245 - val_loss: 0.5308 - val_accuracy: 0.8068\n",
            "Epoch 69/200\n",
            "687/687 [==============================] - 8s 11ms/step - loss: 0.4645 - accuracy: 0.8190 - val_loss: 0.4974 - val_accuracy: 0.8137\n",
            "Epoch 70/200\n",
            "687/687 [==============================] - 6s 8ms/step - loss: 0.4546 - accuracy: 0.8248 - val_loss: 0.5332 - val_accuracy: 0.8027\n",
            "Epoch 71/200\n",
            "687/687 [==============================] - 7s 10ms/step - loss: 0.4527 - accuracy: 0.8257 - val_loss: 0.4988 - val_accuracy: 0.8163\n",
            "Epoch 72/200\n",
            "687/687 [==============================] - 6s 8ms/step - loss: 0.4470 - accuracy: 0.8265 - val_loss: 0.5121 - val_accuracy: 0.8135\n",
            "Epoch 73/200\n",
            "687/687 [==============================] - 7s 10ms/step - loss: 0.4393 - accuracy: 0.8281 - val_loss: 0.5217 - val_accuracy: 0.8142\n",
            "Epoch 74/200\n",
            "687/687 [==============================] - 6s 9ms/step - loss: 0.4445 - accuracy: 0.8286 - val_loss: 0.5179 - val_accuracy: 0.8083\n",
            "Epoch 75/200\n",
            "687/687 [==============================] - 7s 10ms/step - loss: 0.4388 - accuracy: 0.8312 - val_loss: 0.5110 - val_accuracy: 0.8122\n",
            "Epoch 76/200\n",
            "687/687 [==============================] - 7s 10ms/step - loss: 0.4381 - accuracy: 0.8314 - val_loss: 0.4953 - val_accuracy: 0.8191\n",
            "Epoch 77/200\n",
            "687/687 [==============================] - 6s 9ms/step - loss: 0.4392 - accuracy: 0.8316 - val_loss: 0.5139 - val_accuracy: 0.8117\n",
            "Epoch 78/200\n",
            "687/687 [==============================] - 7s 10ms/step - loss: 0.4358 - accuracy: 0.8328 - val_loss: 0.4913 - val_accuracy: 0.8263\n",
            "Epoch 79/200\n",
            "687/687 [==============================] - 6s 8ms/step - loss: 0.4314 - accuracy: 0.8348 - val_loss: 0.5026 - val_accuracy: 0.8182\n",
            "Epoch 80/200\n",
            "687/687 [==============================] - 7s 10ms/step - loss: 0.4234 - accuracy: 0.8375 - val_loss: 0.5056 - val_accuracy: 0.8217\n",
            "Epoch 81/200\n",
            "687/687 [==============================] - 6s 8ms/step - loss: 0.4219 - accuracy: 0.8367 - val_loss: 0.5035 - val_accuracy: 0.8193\n",
            "Epoch 82/200\n",
            "687/687 [==============================] - 7s 10ms/step - loss: 0.4287 - accuracy: 0.8353 - val_loss: 0.4857 - val_accuracy: 0.8270\n",
            "Epoch 83/200\n",
            "687/687 [==============================] - 6s 8ms/step - loss: 0.4253 - accuracy: 0.8359 - val_loss: 0.4831 - val_accuracy: 0.8244\n",
            "Epoch 84/200\n",
            "687/687 [==============================] - 7s 10ms/step - loss: 0.4203 - accuracy: 0.8403 - val_loss: 0.4842 - val_accuracy: 0.8277\n",
            "Epoch 85/200\n",
            "687/687 [==============================] - 6s 9ms/step - loss: 0.4162 - accuracy: 0.8404 - val_loss: 0.4992 - val_accuracy: 0.8212\n",
            "Epoch 86/200\n",
            "687/687 [==============================] - 6s 9ms/step - loss: 0.4159 - accuracy: 0.8400 - val_loss: 0.5001 - val_accuracy: 0.8243\n",
            "Epoch 87/200\n",
            "687/687 [==============================] - 7s 10ms/step - loss: 0.4047 - accuracy: 0.8435 - val_loss: 0.5095 - val_accuracy: 0.8236\n",
            "Epoch 88/200\n",
            "687/687 [==============================] - 6s 8ms/step - loss: 0.4170 - accuracy: 0.8425 - val_loss: 0.4751 - val_accuracy: 0.8337\n",
            "Epoch 89/200\n",
            "687/687 [==============================] - 7s 10ms/step - loss: 0.4113 - accuracy: 0.8429 - val_loss: 0.4903 - val_accuracy: 0.8314\n",
            "Epoch 90/200\n",
            "687/687 [==============================] - 6s 8ms/step - loss: 0.4069 - accuracy: 0.8461 - val_loss: 0.4806 - val_accuracy: 0.8342\n",
            "Epoch 91/200\n",
            "687/687 [==============================] - 7s 10ms/step - loss: 0.4061 - accuracy: 0.8455 - val_loss: 0.4930 - val_accuracy: 0.8281\n",
            "Epoch 92/200\n",
            "687/687 [==============================] - 6s 8ms/step - loss: 0.4042 - accuracy: 0.8468 - val_loss: 0.4804 - val_accuracy: 0.8315\n",
            "Epoch 93/200\n",
            "687/687 [==============================] - 7s 10ms/step - loss: 0.3974 - accuracy: 0.8486 - val_loss: 0.4767 - val_accuracy: 0.8335\n",
            "Epoch 94/200\n",
            "687/687 [==============================] - 6s 9ms/step - loss: 0.4027 - accuracy: 0.8474 - val_loss: 0.5174 - val_accuracy: 0.8222\n",
            "Epoch 95/200\n",
            "687/687 [==============================] - 7s 10ms/step - loss: 0.3980 - accuracy: 0.8485 - val_loss: 0.4825 - val_accuracy: 0.8327\n",
            "Epoch 96/200\n",
            "687/687 [==============================] - 6s 9ms/step - loss: 0.3892 - accuracy: 0.8506 - val_loss: 0.4721 - val_accuracy: 0.8336\n",
            "Epoch 97/200\n",
            "687/687 [==============================] - 7s 9ms/step - loss: 0.3922 - accuracy: 0.8516 - val_loss: 0.4631 - val_accuracy: 0.8370\n",
            "Epoch 98/200\n",
            "687/687 [==============================] - 7s 9ms/step - loss: 0.3863 - accuracy: 0.8545 - val_loss: 0.5009 - val_accuracy: 0.8255\n",
            "Epoch 99/200\n",
            "687/687 [==============================] - 6s 8ms/step - loss: 0.3890 - accuracy: 0.8542 - val_loss: 0.5035 - val_accuracy: 0.8280\n",
            "Epoch 100/200\n",
            "687/687 [==============================] - 7s 10ms/step - loss: 0.3935 - accuracy: 0.8506 - val_loss: 0.4839 - val_accuracy: 0.8316\n",
            "Epoch 101/200\n",
            "687/687 [==============================] - 6s 8ms/step - loss: 0.3939 - accuracy: 0.8524 - val_loss: 0.4828 - val_accuracy: 0.8358\n",
            "Epoch 102/200\n",
            "687/687 [==============================] - 7s 10ms/step - loss: 0.3887 - accuracy: 0.8527 - val_loss: 0.4925 - val_accuracy: 0.8337\n",
            "Epoch 103/200\n",
            "687/687 [==============================] - 6s 8ms/step - loss: 0.3835 - accuracy: 0.8533 - val_loss: 0.4852 - val_accuracy: 0.8335\n",
            "Epoch 104/200\n",
            "687/687 [==============================] - 7s 11ms/step - loss: 0.3871 - accuracy: 0.8535 - val_loss: 0.4727 - val_accuracy: 0.8359\n",
            "Epoch 105/200\n",
            "687/687 [==============================] - 6s 8ms/step - loss: 0.3842 - accuracy: 0.8556 - val_loss: 0.4901 - val_accuracy: 0.8327\n",
            "Epoch 106/200\n",
            "687/687 [==============================] - 7s 10ms/step - loss: 0.3806 - accuracy: 0.8554 - val_loss: 0.4867 - val_accuracy: 0.8346\n",
            "Epoch 107/200\n",
            "687/687 [==============================] - 6s 9ms/step - loss: 0.3838 - accuracy: 0.8551 - val_loss: 0.4854 - val_accuracy: 0.8346\n",
            "Epoch 108/200\n",
            "687/687 [==============================] - 6s 9ms/step - loss: 0.3810 - accuracy: 0.8551 - val_loss: 0.4718 - val_accuracy: 0.8428\n",
            "Epoch 109/200\n",
            "687/687 [==============================] - 7s 10ms/step - loss: 0.3776 - accuracy: 0.8587 - val_loss: 0.5099 - val_accuracy: 0.8313\n",
            "Epoch 110/200\n",
            "687/687 [==============================] - 6s 8ms/step - loss: 0.3778 - accuracy: 0.8576 - val_loss: 0.4794 - val_accuracy: 0.8391\n",
            "Epoch 111/200\n",
            "687/687 [==============================] - 7s 10ms/step - loss: 0.3763 - accuracy: 0.8574 - val_loss: 0.5218 - val_accuracy: 0.8303\n",
            "Epoch 112/200\n",
            "687/687 [==============================] - 6s 8ms/step - loss: 0.3734 - accuracy: 0.8585 - val_loss: 0.4994 - val_accuracy: 0.8360\n",
            "Epoch 113/200\n",
            "687/687 [==============================] - 7s 10ms/step - loss: 0.3658 - accuracy: 0.8626 - val_loss: 0.4792 - val_accuracy: 0.8468\n",
            "Epoch 114/200\n",
            "687/687 [==============================] - 6s 8ms/step - loss: 0.3691 - accuracy: 0.8613 - val_loss: 0.4583 - val_accuracy: 0.8500\n",
            "Epoch 115/200\n",
            "687/687 [==============================] - 7s 10ms/step - loss: 0.3681 - accuracy: 0.8622 - val_loss: 0.4723 - val_accuracy: 0.8412\n",
            "Epoch 116/200\n",
            "687/687 [==============================] - 6s 8ms/step - loss: 0.3638 - accuracy: 0.8633 - val_loss: 0.4815 - val_accuracy: 0.8453\n",
            "Epoch 117/200\n",
            "687/687 [==============================] - 7s 10ms/step - loss: 0.3643 - accuracy: 0.8629 - val_loss: 0.4759 - val_accuracy: 0.8404\n",
            "Epoch 118/200\n",
            "687/687 [==============================] - 6s 9ms/step - loss: 0.3620 - accuracy: 0.8657 - val_loss: 0.4721 - val_accuracy: 0.8398\n",
            "Epoch 119/200\n",
            "687/687 [==============================] - 6s 9ms/step - loss: 0.3552 - accuracy: 0.8657 - val_loss: 0.4695 - val_accuracy: 0.8407\n",
            "Epoch 120/200\n",
            "687/687 [==============================] - 7s 10ms/step - loss: 0.3596 - accuracy: 0.8639 - val_loss: 0.4799 - val_accuracy: 0.8434\n",
            "Epoch 121/200\n",
            "687/687 [==============================] - 6s 8ms/step - loss: 0.3638 - accuracy: 0.8642 - val_loss: 0.4580 - val_accuracy: 0.8460\n",
            "Epoch 122/200\n",
            "687/687 [==============================] - 7s 11ms/step - loss: 0.3626 - accuracy: 0.8674 - val_loss: 0.4782 - val_accuracy: 0.8420\n",
            "Epoch 123/200\n",
            "687/687 [==============================] - 6s 9ms/step - loss: 0.3558 - accuracy: 0.8684 - val_loss: 0.4564 - val_accuracy: 0.8513\n",
            "Epoch 124/200\n",
            "687/687 [==============================] - 7s 10ms/step - loss: 0.3572 - accuracy: 0.8666 - val_loss: 0.4638 - val_accuracy: 0.8499\n",
            "Epoch 125/200\n",
            "687/687 [==============================] - 6s 8ms/step - loss: 0.3533 - accuracy: 0.8666 - val_loss: 0.4537 - val_accuracy: 0.8521\n",
            "Epoch 126/200\n",
            "687/687 [==============================] - 7s 10ms/step - loss: 0.3543 - accuracy: 0.8676 - val_loss: 0.4621 - val_accuracy: 0.8505\n",
            "Epoch 127/200\n",
            "687/687 [==============================] - 6s 9ms/step - loss: 0.3525 - accuracy: 0.8701 - val_loss: 0.4678 - val_accuracy: 0.8503\n",
            "Epoch 128/200\n",
            "687/687 [==============================] - 7s 10ms/step - loss: 0.3477 - accuracy: 0.8700 - val_loss: 0.4736 - val_accuracy: 0.8507\n",
            "Epoch 129/200\n",
            "687/687 [==============================] - 6s 9ms/step - loss: 0.3502 - accuracy: 0.8701 - val_loss: 0.4554 - val_accuracy: 0.8490\n",
            "Epoch 130/200\n",
            "687/687 [==============================] - 6s 8ms/step - loss: 0.3421 - accuracy: 0.8735 - val_loss: 0.4666 - val_accuracy: 0.8532\n",
            "Epoch 131/200\n",
            "687/687 [==============================] - 7s 10ms/step - loss: 0.3489 - accuracy: 0.8702 - val_loss: 0.4931 - val_accuracy: 0.8359\n",
            "Epoch 132/200\n",
            "687/687 [==============================] - 6s 8ms/step - loss: 0.3522 - accuracy: 0.8705 - val_loss: 0.4690 - val_accuracy: 0.8456\n",
            "Epoch 133/200\n",
            "687/687 [==============================] - 7s 11ms/step - loss: 0.3407 - accuracy: 0.8738 - val_loss: 0.4600 - val_accuracy: 0.8487\n",
            "Epoch 134/200\n",
            "687/687 [==============================] - 6s 8ms/step - loss: 0.3462 - accuracy: 0.8732 - val_loss: 0.4569 - val_accuracy: 0.8532\n",
            "Epoch 135/200\n",
            "687/687 [==============================] - 7s 10ms/step - loss: 0.3513 - accuracy: 0.8718 - val_loss: 0.4534 - val_accuracy: 0.8553\n",
            "Epoch 136/200\n",
            "687/687 [==============================] - 6s 8ms/step - loss: 0.3404 - accuracy: 0.8763 - val_loss: 0.4471 - val_accuracy: 0.8551\n",
            "Epoch 137/200\n",
            "687/687 [==============================] - 6s 9ms/step - loss: 0.3392 - accuracy: 0.8751 - val_loss: 0.4737 - val_accuracy: 0.8518\n",
            "Epoch 138/200\n",
            "687/687 [==============================] - 6s 9ms/step - loss: 0.3452 - accuracy: 0.8711 - val_loss: 0.4671 - val_accuracy: 0.8448\n",
            "Epoch 139/200\n",
            "687/687 [==============================] - 6s 9ms/step - loss: 0.3380 - accuracy: 0.8745 - val_loss: 0.4575 - val_accuracy: 0.8561\n",
            "Epoch 140/200\n",
            "687/687 [==============================] - 7s 10ms/step - loss: 0.3323 - accuracy: 0.8772 - val_loss: 0.4701 - val_accuracy: 0.8467\n",
            "Epoch 141/200\n",
            "687/687 [==============================] - 6s 8ms/step - loss: 0.3407 - accuracy: 0.8772 - val_loss: 0.4630 - val_accuracy: 0.8552\n",
            "Epoch 142/200\n",
            "687/687 [==============================] - 7s 10ms/step - loss: 0.3521 - accuracy: 0.8733 - val_loss: 0.4675 - val_accuracy: 0.8487\n",
            "Epoch 143/200\n",
            "687/687 [==============================] - 6s 8ms/step - loss: 0.3416 - accuracy: 0.8748 - val_loss: 0.4555 - val_accuracy: 0.8518\n",
            "Epoch 144/200\n",
            "687/687 [==============================] - 8s 11ms/step - loss: 0.3373 - accuracy: 0.8779 - val_loss: 0.4639 - val_accuracy: 0.8496\n",
            "Epoch 145/200\n",
            "687/687 [==============================] - 6s 8ms/step - loss: 0.3367 - accuracy: 0.8751 - val_loss: 0.4461 - val_accuracy: 0.8572\n",
            "Epoch 146/200\n",
            "687/687 [==============================] - 7s 10ms/step - loss: 0.3399 - accuracy: 0.8773 - val_loss: 0.4266 - val_accuracy: 0.8599\n",
            "Epoch 147/200\n",
            "687/687 [==============================] - 6s 8ms/step - loss: 0.3217 - accuracy: 0.8823 - val_loss: 0.4554 - val_accuracy: 0.8487\n",
            "Epoch 148/200\n",
            "687/687 [==============================] - 6s 9ms/step - loss: 0.3325 - accuracy: 0.8781 - val_loss: 0.4512 - val_accuracy: 0.8548\n",
            "Epoch 149/200\n",
            "687/687 [==============================] - 6s 9ms/step - loss: 0.3308 - accuracy: 0.8789 - val_loss: 0.4700 - val_accuracy: 0.8525\n",
            "Epoch 150/200\n",
            "687/687 [==============================] - 6s 8ms/step - loss: 0.3360 - accuracy: 0.8766 - val_loss: 0.4676 - val_accuracy: 0.8525\n",
            "Epoch 151/200\n",
            "687/687 [==============================] - 7s 10ms/step - loss: 0.3240 - accuracy: 0.8820 - val_loss: 0.4474 - val_accuracy: 0.8597\n",
            "Epoch 152/200\n",
            "687/687 [==============================] - 6s 8ms/step - loss: 0.3337 - accuracy: 0.8791 - val_loss: 0.4519 - val_accuracy: 0.8560\n",
            "Epoch 153/200\n",
            "687/687 [==============================] - 7s 10ms/step - loss: 0.3295 - accuracy: 0.8801 - val_loss: 0.4543 - val_accuracy: 0.8553\n",
            "Epoch 154/200\n",
            "687/687 [==============================] - 6s 8ms/step - loss: 0.3261 - accuracy: 0.8812 - val_loss: 0.4941 - val_accuracy: 0.8477\n",
            "Epoch 155/200\n",
            "687/687 [==============================] - 7s 10ms/step - loss: 0.3242 - accuracy: 0.8811 - val_loss: 0.4483 - val_accuracy: 0.8589\n",
            "Epoch 156/200\n",
            "687/687 [==============================] - 6s 9ms/step - loss: 0.3324 - accuracy: 0.8787 - val_loss: 0.4335 - val_accuracy: 0.8612\n",
            "Epoch 157/200\n",
            "687/687 [==============================] - 6s 9ms/step - loss: 0.3172 - accuracy: 0.8849 - val_loss: 0.4476 - val_accuracy: 0.8626\n",
            "Epoch 158/200\n",
            "687/687 [==============================] - 7s 10ms/step - loss: 0.3209 - accuracy: 0.8837 - val_loss: 0.4481 - val_accuracy: 0.8560\n",
            "Epoch 159/200\n",
            "687/687 [==============================] - 6s 8ms/step - loss: 0.3113 - accuracy: 0.8859 - val_loss: 0.4417 - val_accuracy: 0.8665\n",
            "Epoch 160/200\n",
            "687/687 [==============================] - 7s 10ms/step - loss: 0.3204 - accuracy: 0.8843 - val_loss: 0.4572 - val_accuracy: 0.8559\n",
            "Epoch 161/200\n",
            "687/687 [==============================] - 6s 9ms/step - loss: 0.3260 - accuracy: 0.8828 - val_loss: 0.4697 - val_accuracy: 0.8509\n",
            "Epoch 162/200\n",
            "687/687 [==============================] - 7s 10ms/step - loss: 0.3215 - accuracy: 0.8823 - val_loss: 0.4326 - val_accuracy: 0.8652\n",
            "Epoch 163/200\n",
            "687/687 [==============================] - 6s 8ms/step - loss: 0.3116 - accuracy: 0.8877 - val_loss: 0.4366 - val_accuracy: 0.8625\n",
            "Epoch 164/200\n",
            "687/687 [==============================] - 7s 10ms/step - loss: 0.3125 - accuracy: 0.8870 - val_loss: 0.4495 - val_accuracy: 0.8575\n",
            "Epoch 165/200\n",
            "687/687 [==============================] - 6s 8ms/step - loss: 0.3124 - accuracy: 0.8856 - val_loss: 0.4821 - val_accuracy: 0.8559\n",
            "Epoch 166/200\n",
            "687/687 [==============================] - 6s 9ms/step - loss: 0.3150 - accuracy: 0.8858 - val_loss: 0.4379 - val_accuracy: 0.8613\n",
            "Epoch 167/200\n",
            "687/687 [==============================] - 6s 9ms/step - loss: 0.3138 - accuracy: 0.8876 - val_loss: 0.4546 - val_accuracy: 0.8609\n",
            "Epoch 168/200\n",
            "687/687 [==============================] - 6s 8ms/step - loss: 0.3146 - accuracy: 0.8881 - val_loss: 0.4393 - val_accuracy: 0.8611\n",
            "Epoch 169/200\n",
            "687/687 [==============================] - 7s 10ms/step - loss: 0.3084 - accuracy: 0.8881 - val_loss: 0.4624 - val_accuracy: 0.8572\n",
            "Epoch 170/200\n",
            "687/687 [==============================] - 6s 8ms/step - loss: 0.3109 - accuracy: 0.8869 - val_loss: 0.4464 - val_accuracy: 0.8626\n",
            "Epoch 171/200\n",
            "687/687 [==============================] - 7s 10ms/step - loss: 0.3079 - accuracy: 0.8876 - val_loss: 0.4610 - val_accuracy: 0.8619\n",
            "Epoch 172/200\n",
            "687/687 [==============================] - 6s 8ms/step - loss: 0.3066 - accuracy: 0.8906 - val_loss: 0.4438 - val_accuracy: 0.8633\n",
            "Epoch 173/200\n",
            "687/687 [==============================] - 7s 10ms/step - loss: 0.3084 - accuracy: 0.8890 - val_loss: 0.4348 - val_accuracy: 0.8650\n",
            "Epoch 174/200\n",
            "687/687 [==============================] - 6s 8ms/step - loss: 0.3112 - accuracy: 0.8897 - val_loss: 0.4480 - val_accuracy: 0.8637\n",
            "Epoch 175/200\n",
            "687/687 [==============================] - 6s 9ms/step - loss: 0.3089 - accuracy: 0.8887 - val_loss: 0.4389 - val_accuracy: 0.8661\n",
            "Epoch 176/200\n",
            "687/687 [==============================] - 7s 10ms/step - loss: 0.3021 - accuracy: 0.8929 - val_loss: 0.4381 - val_accuracy: 0.8663\n",
            "Epoch 177/200\n",
            "687/687 [==============================] - 6s 9ms/step - loss: 0.2986 - accuracy: 0.8931 - val_loss: 0.4439 - val_accuracy: 0.8605\n",
            "Epoch 178/200\n",
            "687/687 [==============================] - 7s 10ms/step - loss: 0.3117 - accuracy: 0.8898 - val_loss: 0.4385 - val_accuracy: 0.8592\n",
            "Epoch 179/200\n",
            "687/687 [==============================] - 6s 8ms/step - loss: 0.3006 - accuracy: 0.8931 - val_loss: 0.4762 - val_accuracy: 0.8568\n",
            "Epoch 180/200\n",
            "687/687 [==============================] - 7s 10ms/step - loss: 0.3071 - accuracy: 0.8919 - val_loss: 0.4316 - val_accuracy: 0.8690\n",
            "Epoch 181/200\n",
            "687/687 [==============================] - 6s 8ms/step - loss: 0.3024 - accuracy: 0.8925 - val_loss: 0.4481 - val_accuracy: 0.8631\n",
            "Epoch 182/200\n",
            "687/687 [==============================] - 7s 10ms/step - loss: 0.3021 - accuracy: 0.8921 - val_loss: 0.4347 - val_accuracy: 0.8658\n",
            "Epoch 183/200\n",
            "687/687 [==============================] - 6s 8ms/step - loss: 0.3013 - accuracy: 0.8927 - val_loss: 0.4410 - val_accuracy: 0.8619\n",
            "Epoch 184/200\n",
            "687/687 [==============================] - 7s 10ms/step - loss: 0.3008 - accuracy: 0.8915 - val_loss: 0.4523 - val_accuracy: 0.8620\n",
            "Epoch 185/200\n",
            "687/687 [==============================] - 6s 9ms/step - loss: 0.2994 - accuracy: 0.8929 - val_loss: 0.4482 - val_accuracy: 0.8617\n",
            "Epoch 186/200\n",
            "687/687 [==============================] - 7s 10ms/step - loss: 0.3035 - accuracy: 0.8922 - val_loss: 0.4415 - val_accuracy: 0.8652\n",
            "Epoch 187/200\n",
            "687/687 [==============================] - 6s 9ms/step - loss: 0.3028 - accuracy: 0.8923 - val_loss: 0.4510 - val_accuracy: 0.8619\n",
            "Epoch 188/200\n",
            "687/687 [==============================] - 6s 9ms/step - loss: 0.3008 - accuracy: 0.8926 - val_loss: 0.4346 - val_accuracy: 0.8669\n",
            "Epoch 189/200\n",
            "687/687 [==============================] - 7s 10ms/step - loss: 0.3012 - accuracy: 0.8915 - val_loss: 0.4302 - val_accuracy: 0.8687\n",
            "Epoch 190/200\n",
            "687/687 [==============================] - 6s 8ms/step - loss: 0.2972 - accuracy: 0.8934 - val_loss: 0.4585 - val_accuracy: 0.8602\n",
            "Epoch 191/200\n",
            "687/687 [==============================] - 7s 10ms/step - loss: 0.2996 - accuracy: 0.8940 - val_loss: 0.4466 - val_accuracy: 0.8700\n",
            "Epoch 192/200\n",
            "687/687 [==============================] - 6s 8ms/step - loss: 0.2905 - accuracy: 0.8949 - val_loss: 0.4389 - val_accuracy: 0.8624\n",
            "Epoch 193/200\n",
            "687/687 [==============================] - 7s 11ms/step - loss: 0.2965 - accuracy: 0.8934 - val_loss: 0.4461 - val_accuracy: 0.8656\n",
            "Epoch 194/200\n",
            "687/687 [==============================] - 6s 8ms/step - loss: 0.2949 - accuracy: 0.8960 - val_loss: 0.4313 - val_accuracy: 0.8684\n",
            "Epoch 195/200\n",
            "687/687 [==============================] - 7s 10ms/step - loss: 0.2875 - accuracy: 0.8965 - val_loss: 0.4570 - val_accuracy: 0.8661\n",
            "Epoch 196/200\n",
            "687/687 [==============================] - 6s 9ms/step - loss: 0.2929 - accuracy: 0.8941 - val_loss: 0.4462 - val_accuracy: 0.8639\n",
            "Epoch 197/200\n",
            "687/687 [==============================] - 6s 9ms/step - loss: 0.2927 - accuracy: 0.8956 - val_loss: 0.4302 - val_accuracy: 0.8641\n",
            "Epoch 198/200\n",
            "687/687 [==============================] - 7s 10ms/step - loss: 0.2911 - accuracy: 0.8961 - val_loss: 0.4305 - val_accuracy: 0.8704\n",
            "Epoch 199/200\n",
            "687/687 [==============================] - 6s 9ms/step - loss: 0.2897 - accuracy: 0.8968 - val_loss: 0.4462 - val_accuracy: 0.8671\n",
            "Epoch 200/200\n",
            "687/687 [==============================] - 7s 11ms/step - loss: 0.3045 - accuracy: 0.8928 - val_loss: 0.4466 - val_accuracy: 0.8641\n"
          ]
        }
      ],
      "source": [
        "history=model.fit(x_train, y_train,\n",
        "          batch_size=batch_size,\n",
        "          epochs=epochs,\n",
        "          verbose=1,validation_data=(x_test,y_test))"
      ]
    },
    {
      "cell_type": "code",
      "execution_count": 26,
      "metadata": {
        "id": "sY5W36wSW9F1",
        "colab": {
          "base_uri": "https://localhost:8080/"
        },
        "outputId": "fca55ea2-f71b-4088-d11d-f947992be715"
      },
      "outputs": [
        {
          "output_type": "stream",
          "name": "stdout",
          "text": [
            "458/458 [==============================] - 2s 4ms/step - loss: 0.4466 - accuracy: 0.8641\n",
            "Test loss: 0.4465724527835846\n",
            "Test accuracy: 0.8641393184661865\n"
          ]
        }
      ],
      "source": [
        "score = model.evaluate(x_test, y_test, verbose=1)\n",
        "print('Test loss:', score[0])\n",
        "print('Test accuracy:', score[1])"
      ]
    },
    {
      "cell_type": "code",
      "execution_count": 27,
      "metadata": {
        "id": "zIGNvLlPXO-5",
        "colab": {
          "base_uri": "https://localhost:8080/"
        },
        "outputId": "8687a8ed-96d6-4ae4-f2d2-e78599378372"
      },
      "outputs": [
        {
          "output_type": "stream",
          "name": "stdout",
          "text": [
            "dict_keys(['loss', 'accuracy', 'val_loss', 'val_accuracy'])\n"
          ]
        }
      ],
      "source": [
        "# list all data in history\n",
        "print(history.history.keys())\n",
        "import matplotlib.pyplot as plt\n",
        "import numpy"
      ]
    },
    {
      "cell_type": "code",
      "execution_count": 28,
      "metadata": {
        "id": "Mok9-DAgXPBC",
        "colab": {
          "base_uri": "https://localhost:8080/",
          "height": 472
        },
        "outputId": "57672a5a-12f3-4522-be87-1e8b72c87fda"
      },
      "outputs": [
        {
          "output_type": "display_data",
          "data": {
            "text/plain": [
              "<Figure size 640x480 with 1 Axes>"
            ],
            "image/png": "[encoded data removed]"
          },
          "metadata": {}
        }
      ],
      "source": [
        "\n",
        "# summarize history for accuracy\n",
        "plt.plot(history.history['accuracy'])\n",
        "plt.plot(history.history['val_accuracy'])\n",
        "plt.title('model accuracy')\n",
        "plt.ylabel('accuracy')\n",
        "plt.xlabel('epoch')\n",
        "plt.legend(['train', 'test'], loc='upper left')\n",
        "plt.show()"
      ]
    },
    {
      "cell_type": "code",
      "execution_count": 29,
      "metadata": {
        "id": "k2VCpamFXPC5",
        "colab": {
          "base_uri": "https://localhost:8080/",
          "height": 472
        },
        "outputId": "fc1a2474-d1c6-401d-9999-7b75b0d74f86"
      },
      "outputs": [
        {
          "output_type": "display_data",
          "data": {
            "text/plain": [
              "<Figure size 640x480 with 1 Axes>"
            ],
            "image/png": "[encoded data removed]"
          },
          "metadata": {}
        }
      ],
      "source": [
        "# summarize history for loss\n",
        "plt.plot(history.history['loss'])\n",
        "plt.plot(history.history['val_loss'])\n",
        "plt.title('model loss')\n",
        "plt.ylabel('loss')\n",
        "plt.xlabel('epoch')\n",
        "plt.legend(['train', 'test'], loc='upper left')\n",
        "plt.show()"
      ]
    },
    {
      "cell_type": "code",
      "execution_count": 30,
      "metadata": {
        "id": "9XmLfP2KXPFc",
        "colab": {
          "base_uri": "https://localhost:8080/",
          "height": 472
        },
        "outputId": "f437126b-3bca-4de7-d613-00ccae88f6e1"
      },
      "outputs": [
        {
          "output_type": "display_data",
          "data": {
            "text/plain": [
              "<Figure size 640x480 with 1 Axes>"
            ],
            "image/png": "[encoded data removed]"
          },
          "metadata": {}
        }
      ],
      "source": [
        "plt.plot(history.history['val_accuracy'])\n",
        "plt.plot(history.history['val_loss'])\n",
        "plt.title('test model')\n",
        "plt.ylabel('test accuracy')\n",
        "plt.xlabel('test loss')\n",
        "plt.show()"
      ]
    },
    {
      "cell_type": "code",
      "execution_count": 31,
      "metadata": {
        "id": "cOT1z8J9XPHd",
        "colab": {
          "base_uri": "https://localhost:8080/"
        },
        "outputId": "24e78ae5-762a-4b16-d0e6-dd1299b4c83c"
      },
      "outputs": [
        {
          "output_type": "stream",
          "name": "stdout",
          "text": [
            "458/458 [==============================] - 2s 4ms/step\n"
          ]
        }
      ],
      "source": [
        "y_pred=model.predict(x_test)\n",
        "from sklearn.metrics import confusion_matrix\n",
        "import numpy as np"
      ]
    },
    {
      "cell_type": "code",
      "execution_count": 32,
      "metadata": {
        "id": "nkhDTcjvXPKC",
        "colab": {
          "base_uri": "https://localhost:8080/"
        },
        "outputId": "8d277115-ac6d-4752-eb7a-9c2c119de7db"
      },
      "outputs": [
        {
          "output_type": "execute_result",
          "data": {
            "text/plain": [
              "array([0., 0., 0., 0., 0., 0., 0., 1., 0., 0.], dtype=float32)"
            ]
          },
          "metadata": {},
          "execution_count": 32
        }
      ],
      "source": [
        "y_test[1]"
      ]
    },
    {
      "cell_type": "code",
      "execution_count": 33,
      "metadata": {
        "id": "vm402BUjXPMI",
        "colab": {
          "base_uri": "https://localhost:8080/"
        },
        "outputId": "35341e41-552e-4da4-dd76-e1286b5aed5a"
      },
      "outputs": [
        {
          "output_type": "execute_result",
          "data": {
            "text/plain": [
              "array([0.0000000e+00, 7.0174884e-09, 0.0000000e+00, 4.1757372e-07,\n",
              "       6.8971120e-11, 1.8280569e-05, 5.5743785e-05, 9.9992549e-01,\n",
              "       2.1531935e-08, 9.2289010e-14], dtype=float32)"
            ]
          },
          "metadata": {},
          "execution_count": 33
        }
      ],
      "source": [
        "y_pred[1]"
      ]
    },
    {
      "cell_type": "code",
      "execution_count": 34,
      "metadata": {
        "id": "7k83iorRXPOG"
      },
      "outputs": [],
      "source": [
        "y_test1=np.argmax(y_test, axis=1)"
      ]
    },
    {
      "cell_type": "code",
      "execution_count": 35,
      "metadata": {
        "id": "Ll7eqEnGXPQl"
      },
      "outputs": [],
      "source": [
        "\n",
        "y_pred=np.argmax(y_pred,axis=1)"
      ]
    },
    {
      "cell_type": "code",
      "execution_count": 36,
      "metadata": {
        "id": "lGV4UBtHXPSk",
        "colab": {
          "base_uri": "https://localhost:8080/"
        },
        "outputId": "8f90aa08-486b-4331-8dab-4487131f3c0f"
      },
      "outputs": [
        {
          "output_type": "execute_result",
          "data": {
            "text/plain": [
              "7"
            ]
          },
          "metadata": {},
          "execution_count": 36
        }
      ],
      "source": [
        "y_test1[1]"
      ]
    },
    {
      "cell_type": "code",
      "execution_count": 37,
      "metadata": {
        "id": "CkUy3-YrXPU3",
        "colab": {
          "base_uri": "https://localhost:8080/"
        },
        "outputId": "1633186d-2b87-4dd1-9b68-d7dca5005b26"
      },
      "outputs": [
        {
          "output_type": "execute_result",
          "data": {
            "text/plain": [
              "7"
            ]
          },
          "metadata": {},
          "execution_count": 37
        }
      ],
      "source": [
        "\n",
        "y_pred[1]"
      ]
    },
    {
      "cell_type": "code",
      "execution_count": 38,
      "metadata": {
        "id": "jHMcBmycXPXN"
      },
      "outputs": [],
      "source": [
        "\n",
        "cmatrix=confusion_matrix(y_test1, y_pred)"
      ]
    },
    {
      "cell_type": "code",
      "execution_count": 39,
      "metadata": {
        "id": "C0e8wIgeXPZh",
        "colab": {
          "base_uri": "https://localhost:8080/",
          "height": 826
        },
        "outputId": "26680365-7e61-4eb2-b1c4-3aed2557e32c"
      },
      "outputs": [
        {
          "output_type": "display_data",
          "data": {
            "text/plain": [
              "<Figure size 800x800 with 2 Axes>"
            ],
            "image/png": "[encoded data removed]"
          },
          "metadata": {}
        }
      ],
      "source": [
        "\n",
        "import seaborn as sns\n",
        "figure = plt.figure(figsize=(8, 8))\n",
        "sns.heatmap(cmatrix, annot=True,cmap=plt.cm.Blues)\n",
        "plt.tight_layout()\n",
        "plt.ylabel('True label')\n",
        "plt.xlabel('Predicted label')\n",
        "plt.show()"
      ]
    },
    {
      "cell_type": "code",
      "execution_count": 40,
      "metadata": {
        "id": "_wfxl85sXPby",
        "colab": {
          "base_uri": "https://localhost:8080/"
        },
        "outputId": "1ae339d1-d46d-47e5-c145-f5a692575eaa"
      },
      "outputs": [
        {
          "output_type": "stream",
          "name": "stdout",
          "text": [
            "458/458 [==============================] - 1s 2ms/step\n",
            "              precision    recall  f1-score   support\n",
            "\n",
            "           0       0.00      0.00      0.00         0\n",
            "           1       0.80      0.75      0.78      1464\n",
            "           2       0.00      0.00      0.00         0\n",
            "           3       0.95      0.92      0.93       488\n",
            "           4       0.89      0.90      0.90       488\n",
            "           5       0.95      0.87      0.91      2562\n",
            "           6       0.93      0.89      0.91      3416\n",
            "           7       0.92      0.82      0.87      3416\n",
            "           8       0.91      0.93      0.92      1464\n",
            "           9       0.79      0.57      0.66      1342\n",
            "\n",
            "   micro avg       0.91      0.83      0.87     14640\n",
            "   macro avg       0.71      0.67      0.69     14640\n",
            "weighted avg       0.90      0.83      0.86     14640\n",
            " samples avg       0.83      0.83      0.83     14640\n",
            "\n"
          ]
        }
      ],
      "source": [
        "\n",
        "from sklearn import metrics\n",
        "y_pred = np.around(model.predict(x_test))\n",
        "print(metrics.classification_report(y_test,y_pred))"
      ]
    },
    {
      "cell_type": "code",
      "execution_count": null,
      "metadata": {
        "id": "qVYolMBPXPij"
      },
      "outputs": [],
      "source": []
    },
    {
      "cell_type": "code",
      "execution_count": null,
      "metadata": {
        "id": "E5w_AIBwXPkl"
      },
      "outputs": [],
      "source": []
    },
    {
      "cell_type": "code",
      "execution_count": null,
      "metadata": {
        "id": "ybvJK4KQXPmo"
      },
      "outputs": [],
      "source": []
    },
    {
      "cell_type": "code",
      "execution_count": null,
      "metadata": {
        "id": "ZUCI3Yc2XPqL"
      },
      "outputs": [],
      "source": []
    }
  ],
  "metadata": {
    "accelerator": "GPU",
    "colab": {
      "gpuType": "T4",
      "provenance": []
    },
    "kernelspec": {
      "display_name": "Python 3",
      "name": "python3"
    },
    "language_info": {
      "name": "python"
    }
  },
  "nbformat": 4,
  "nbformat_minor": 0
}